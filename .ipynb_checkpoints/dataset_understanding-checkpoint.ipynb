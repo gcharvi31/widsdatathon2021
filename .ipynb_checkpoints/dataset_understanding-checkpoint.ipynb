{
 "cells": [
  {
   "cell_type": "code",
   "execution_count": 1,
   "metadata": {
    "ExecuteTime": {
     "end_time": "2021-01-20T11:51:35.662607Z",
     "start_time": "2021-01-20T11:51:31.952431Z"
    }
   },
   "outputs": [],
   "source": [
    "import numpy as np\n",
    "import pandas as pd\n",
    "import matplotlib.pyplot as plt\n",
    "%matplotlib inline\n",
    "import seaborn as sns\n",
    "\n",
    "from sklearn.preprocessing import OneHotEncoder, LabelEncoder, StandardScaler\n",
    "from sklearn.compose import ColumnTransformer\n",
    "from sklearn.pipeline import Pipeline, make_pipeline, make_union\n",
    "from sklearn.impute import SimpleImputer\n",
    "from sklearn.linear_model import LogisticRegression\n",
    "from sklearn.model_selection import train_test_split, GridSearchCV\n",
    "\n",
    "import warnings\n",
    "warnings.filterwarnings(\"ignore\")"
   ]
  },
  {
   "cell_type": "code",
   "execution_count": 15,
   "metadata": {},
   "outputs": [],
   "source": [
    "def drop_zero_variance_cols(df):\n",
    "    \"\"\"Drop columns which contain only one value\"\"\"\n",
    "    cols = list(df)\n",
    "    nunique = df.apply(pd.Series.nunique)\n",
    "    cols_to_drop = nunique[nunique==1].index\n",
    "    print(\"Dropping columns with zero variance [\", cols_to_drop.values, \"]\")\n",
    "    df.drop(cols_to_drop, axis=1, inplace=True)\n",
    "    \n",
    "def drop_null_cols_with_threshold(df, null_threshold=0.80):\n",
    "    \"\"\"Drops columns containing more than len(df[col])*threshold NaN values\"\"\"\n",
    "    cols_to_drop = df.columns[df.isna().mean() > null_threshold].to_list()\n",
    "    print(\"Dropping columns with greater than \", str(null_threshold*100), \"% NaN values [\", cols_to_drop, \"]\")\n",
    "    df.drop(cols_to_drop, axis=1, inplace=True)\n",
    "      \n",
    "def preprocess_cols(df) -> pd.DataFrame:\n",
    "    \"\"\"Function which preprocesses the columns\n",
    "    \"\"\"\n",
    "    # Drop zero variance columns\n",
    "    drop_zero_variance_cols(df)\n",
    "#     drop_null_cols_with_threshold(df, null_threshold=0.80)\n",
    "    return df"
   ]
  },
  {
   "cell_type": "code",
   "execution_count": null,
   "metadata": {},
   "outputs": [],
   "source": []
  },
  {
   "cell_type": "code",
   "execution_count": null,
   "metadata": {},
   "outputs": [],
   "source": []
  },
  {
   "cell_type": "code",
   "execution_count": 28,
   "metadata": {
    "ExecuteTime": {
     "end_time": "2021-01-20T11:51:38.029547Z",
     "start_time": "2021-01-20T11:51:36.394710Z"
    }
   },
   "outputs": [],
   "source": [
    "train_df = pd.read_csv('input/TrainingWiDS2021.csv')\n",
    "test_df = pd.read_csv('input/UnlabeledWiDS2021.csv')\n",
    "data_dict = pd.read_csv('input/DataDictionaryWiDS2021.csv')"
   ]
  },
  {
   "cell_type": "code",
   "execution_count": null,
   "metadata": {
    "ExecuteTime": {
     "end_time": "2021-01-20T11:51:38.749960Z",
     "start_time": "2021-01-20T11:51:38.743867Z"
    },
    "scrolled": true
   },
   "outputs": [],
   "source": [
    "train_df.columns, test_df.columns"
   ]
  },
  {
   "cell_type": "code",
   "execution_count": 5,
   "metadata": {},
   "outputs": [
    {
     "name": "stdout",
     "output_type": "stream",
     "text": [
      "{'diabetes_mellitus'}\n"
     ]
    }
   ],
   "source": [
    "# check if train and test have same columns\n",
    "print(set(train_df.columns) - set(test_df.columns))"
   ]
  },
  {
   "cell_type": "code",
   "execution_count": 23,
   "metadata": {},
   "outputs": [],
   "source": [
    "# Target variable to be predicted\n",
    "TARGET_VARIABLE = 'diabetes_mellitus'"
   ]
  },
  {
   "cell_type": "code",
   "execution_count": 7,
   "metadata": {
    "ExecuteTime": {
     "end_time": "2021-01-20T11:51:41.251701Z",
     "start_time": "2021-01-20T11:51:41.247573Z"
    }
   },
   "outputs": [
    {
     "data": {
      "text/plain": [
       "((130157, 181), (10234, 180))"
      ]
     },
     "execution_count": 7,
     "metadata": {},
     "output_type": "execute_result"
    }
   ],
   "source": [
    "train_df.shape, test_df.shape"
   ]
  },
  {
   "cell_type": "code",
   "execution_count": null,
   "metadata": {
    "ExecuteTime": {
     "end_time": "2021-01-20T11:51:41.570155Z",
     "start_time": "2021-01-20T11:51:41.547507Z"
    }
   },
   "outputs": [],
   "source": [
    "train_df.head(10)"
   ]
  },
  {
   "cell_type": "code",
   "execution_count": 63,
   "metadata": {
    "ExecuteTime": {
     "end_time": "2021-01-20T11:51:43.401410Z",
     "start_time": "2021-01-20T11:51:43.276013Z"
    }
   },
   "outputs": [],
   "source": [
    "train_df = train_df.drop(columns=['Unnamed: 0', 'encounter_id', 'hospital_id', 'icu_id'])\n",
    "test_df = test_df.drop(columns=['Unnamed: 0', 'encounter_id', 'hospital_id', 'icu_id'])"
   ]
  },
  {
   "cell_type": "code",
   "execution_count": 14,
   "metadata": {},
   "outputs": [
    {
     "data": {
      "text/plain": [
       "float64    157\n",
       "int64       14\n",
       "object       6\n",
       "dtype: int64"
      ]
     },
     "execution_count": 14,
     "metadata": {},
     "output_type": "execute_result"
    }
   ],
   "source": [
    "train_df.dtypes.value_counts()"
   ]
  },
  {
   "cell_type": "code",
   "execution_count": 29,
   "metadata": {},
   "outputs": [],
   "source": [
    "Y_train = train_df[TARGET_VARIABLE]\n",
    "train_df = train_df.drop([TARGET_VARIABLE], axis=1, inplace=False)"
   ]
  },
  {
   "cell_type": "markdown",
   "metadata": {},
   "source": [
    "## Plots of variables"
   ]
  },
  {
   "cell_type": "code",
   "execution_count": null,
   "metadata": {},
   "outputs": [],
   "source": [
    "train_df.head()"
   ]
  },
  {
   "cell_type": "markdown",
   "metadata": {},
   "source": [
    "### Dropping columns with zero variance"
   ]
  },
  {
   "cell_type": "code",
   "execution_count": 30,
   "metadata": {},
   "outputs": [
    {
     "name": "stdout",
     "output_type": "stream",
     "text": [
      "Dropping columns with zero variance [ ['readmission_status'] ]\n",
      "Dropping columns with zero variance [ ['readmission_status'] ]\n"
     ]
    },
    {
     "data": {
      "text/plain": [
       "((130157, 179), (10234, 179))"
      ]
     },
     "execution_count": 30,
     "metadata": {},
     "output_type": "execute_result"
    }
   ],
   "source": [
    "train_df = preprocess_cols(train_df)\n",
    "test_df = preprocess_cols(test_df)\n",
    "train_df.shape, test_df.shape"
   ]
  },
  {
   "cell_type": "markdown",
   "metadata": {},
   "source": [
    "### Dropping columns with > 69% null values"
   ]
  },
  {
   "cell_type": "code",
   "execution_count": null,
   "metadata": {},
   "outputs": [],
   "source": [
    "# train_df[(train_df['h1_albumin_max'].isnull()) & \\\n",
    "#          (train_df['h1_bilirubin_max'].isnull()) & \\\n",
    "#          (train_df['h1_lactate_max'].isnull()) & \\\n",
    "#          (train_df['h1_pao2fio2ratio_max'].isnull()) & \\\n",
    "#          (train_df['h1_arterial_ph_max'].isnull()) & \n",
    "#          (train_df['h1_arterial_pco2_max'].isnull()) & \n",
    "#          (train_df['h1_arterial_po2_max'].isnull()) & \\\n",
    "#          (train_df['h1_hco3_max'].isnull()) & \\\n",
    "#          (train_df['h1_calcium_max'].isnull()) & \\\n",
    "#          (train_df['h1_wbc_max'].isnull())].shape"
   ]
  },
  {
   "cell_type": "code",
   "execution_count": 56,
   "metadata": {},
   "outputs": [],
   "source": [
    "null_cols_train = train_df.columns[train_df.isna().mean() > 0.69].to_list()\n",
    "null_cols_test = test_df.columns[test_df.isna().mean() > 0.69].to_list()"
   ]
  },
  {
   "cell_type": "code",
   "execution_count": 57,
   "metadata": {},
   "outputs": [
    {
     "data": {
      "text/plain": [
       "set()"
      ]
     },
     "execution_count": 57,
     "metadata": {},
     "output_type": "execute_result"
    }
   ],
   "source": [
    "set(null_cols_train) - set(null_cols_test)"
   ]
  },
  {
   "cell_type": "code",
   "execution_count": 59,
   "metadata": {},
   "outputs": [
    {
     "name": "stdout",
     "output_type": "stream",
     "text": [
      "Dropping columns with greater than  69.0 % NaN values [ ['fio2_apache', 'paco2_apache', 'paco2_for_ph_apache', 'pao2_apache', 'ph_apache', 'd1_diasbp_invasive_max', 'd1_diasbp_invasive_min', 'd1_mbp_invasive_max', 'd1_mbp_invasive_min', 'd1_sysbp_invasive_max', 'd1_sysbp_invasive_min', 'h1_diasbp_invasive_max', 'h1_diasbp_invasive_min', 'h1_mbp_invasive_max', 'h1_mbp_invasive_min', 'h1_sysbp_invasive_max', 'h1_sysbp_invasive_min', 'd1_lactate_max', 'd1_lactate_min', 'h1_albumin_max', 'h1_albumin_min', 'h1_bilirubin_max', 'h1_bilirubin_min', 'h1_bun_max', 'h1_bun_min', 'h1_calcium_max', 'h1_calcium_min', 'h1_creatinine_max', 'h1_creatinine_min', 'h1_hco3_max', 'h1_hco3_min', 'h1_hemaglobin_max', 'h1_hemaglobin_min', 'h1_hematocrit_max', 'h1_hematocrit_min', 'h1_lactate_max', 'h1_lactate_min', 'h1_platelets_max', 'h1_platelets_min', 'h1_potassium_max', 'h1_potassium_min', 'h1_sodium_max', 'h1_sodium_min', 'h1_wbc_max', 'h1_wbc_min', 'd1_pao2fio2ratio_max', 'd1_pao2fio2ratio_min', 'h1_arterial_pco2_max', 'h1_arterial_pco2_min', 'h1_arterial_ph_max', 'h1_arterial_ph_min', 'h1_arterial_po2_max', 'h1_arterial_po2_min', 'h1_pao2fio2ratio_max', 'h1_pao2fio2ratio_min'] ]\n",
      "Dropping columns with greater than  69.0 % NaN values [ ['fio2_apache', 'paco2_apache', 'paco2_for_ph_apache', 'pao2_apache', 'ph_apache', 'd1_diasbp_invasive_max', 'd1_diasbp_invasive_min', 'd1_mbp_invasive_max', 'd1_mbp_invasive_min', 'd1_sysbp_invasive_max', 'd1_sysbp_invasive_min', 'h1_diasbp_invasive_max', 'h1_diasbp_invasive_min', 'h1_mbp_invasive_max', 'h1_mbp_invasive_min', 'h1_sysbp_invasive_max', 'h1_sysbp_invasive_min', 'd1_lactate_max', 'd1_lactate_min', 'h1_albumin_max', 'h1_albumin_min', 'h1_bilirubin_max', 'h1_bilirubin_min', 'h1_bun_max', 'h1_bun_min', 'h1_calcium_max', 'h1_calcium_min', 'h1_creatinine_max', 'h1_creatinine_min', 'h1_hco3_max', 'h1_hco3_min', 'h1_hemaglobin_max', 'h1_hemaglobin_min', 'h1_hematocrit_max', 'h1_hematocrit_min', 'h1_lactate_max', 'h1_lactate_min', 'h1_platelets_max', 'h1_platelets_min', 'h1_potassium_max', 'h1_potassium_min', 'h1_sodium_max', 'h1_sodium_min', 'h1_wbc_max', 'h1_wbc_min', 'd1_pao2fio2ratio_max', 'd1_pao2fio2ratio_min', 'h1_arterial_pco2_max', 'h1_arterial_pco2_min', 'h1_arterial_ph_max', 'h1_arterial_ph_min', 'h1_arterial_po2_max', 'h1_arterial_po2_min', 'h1_pao2fio2ratio_max', 'h1_pao2fio2ratio_min'] ]\n"
     ]
    }
   ],
   "source": [
    "drop_null_cols_with_threshold(train_df, null_threshold=0.69)\n",
    "drop_null_cols_with_threshold(test_df, null_threshold=0.69)"
   ]
  },
  {
   "cell_type": "code",
   "execution_count": 60,
   "metadata": {},
   "outputs": [
    {
     "data": {
      "text/plain": [
       "set()"
      ]
     },
     "execution_count": 60,
     "metadata": {},
     "output_type": "execute_result"
    }
   ],
   "source": [
    "set(list(train_df)) - set(list(test_df))"
   ]
  },
  {
   "cell_type": "markdown",
   "metadata": {},
   "source": [
    "### Treating Catagorical and Catagorical like columns"
   ]
  },
  {
   "cell_type": "code",
   "execution_count": 79,
   "metadata": {},
   "outputs": [],
   "source": [
    "cat_cols = list(train_df.select_dtypes(include=['object']))\n",
    "int_cols = list(train_df.select_dtypes(include=['int64']))"
   ]
  },
  {
   "cell_type": "code",
   "execution_count": 84,
   "metadata": {},
   "outputs": [
    {
     "data": {
      "text/plain": [
       "['elective_surgery',\n",
       " 'apache_post_operative',\n",
       " 'arf_apache',\n",
       " 'intubated_apache',\n",
       " 'ventilated_apache',\n",
       " 'aids',\n",
       " 'cirrhosis',\n",
       " 'hepatic_failure',\n",
       " 'immunosuppression',\n",
       " 'leukemia',\n",
       " 'lymphoma',\n",
       " 'solid_tumor_with_metastasis']"
      ]
     },
     "execution_count": 84,
     "metadata": {},
     "output_type": "execute_result"
    }
   ],
   "source": [
    "int_cols"
   ]
  },
  {
   "cell_type": "code",
   "execution_count": 89,
   "metadata": {},
   "outputs": [
    {
     "name": "stdout",
     "output_type": "stream",
     "text": [
      "0    105448\n",
      "1     24709\n",
      "Name: elective_surgery, dtype: int64 0.0\n",
      "0    103200\n",
      "1     26957\n",
      "Name: apache_post_operative, dtype: int64 0.0\n",
      "0    126513\n",
      "1      3644\n",
      "Name: arf_apache, dtype: int64 0.0\n",
      "0    109771\n",
      "1     20386\n",
      "Name: intubated_apache, dtype: int64 0.0\n",
      "0    87149\n",
      "1    43008\n",
      "Name: ventilated_apache, dtype: int64 0.0\n",
      "0    130023\n",
      "1       134\n",
      "Name: aids, dtype: int64 0.0\n",
      "0    128064\n",
      "1      2093\n",
      "Name: cirrhosis, dtype: int64 0.0\n",
      "0    128387\n",
      "1      1770\n",
      "Name: hepatic_failure, dtype: int64 0.0\n",
      "0    126816\n",
      "1      3341\n",
      "Name: immunosuppression, dtype: int64 0.0\n",
      "0    129206\n",
      "1       951\n",
      "Name: leukemia, dtype: int64 0.0\n",
      "0    129612\n",
      "1       545\n",
      "Name: lymphoma, dtype: int64 0.0\n",
      "0    127443\n",
      "1      2714\n",
      "Name: solid_tumor_with_metastasis, dtype: int64 0.0\n"
     ]
    }
   ],
   "source": [
    "for col in int_cols:\n",
    "    print(train_df[col].value_counts(), train_df[col].isna().mean())\n",
    "    \n",
    "# The int64 data type columns are clearly categorical and don't need any imputation"
   ]
  },
  {
   "cell_type": "code",
   "execution_count": 91,
   "metadata": {},
   "outputs": [
    {
     "name": "stdout",
     "output_type": "stream",
     "text": [
      "Caucasian           100236\n",
      "African American     13911\n",
      "Other/Unknown         6261\n",
      "Hispanic              5049\n",
      "Asian                 2198\n",
      "Native American        915\n",
      "Name: ethnicity, dtype: int64 1.2192966955292455\n",
      "M    70518\n",
      "F    59573\n",
      "Name: gender, dtype: int64 0.05070799111841853\n",
      "Emergency Department    51258\n",
      "Operating Room          13757\n",
      "Floor                   11324\n",
      "Direct Admit             8253\n",
      "Recovery Room            4563\n",
      "Other Hospital           2417\n",
      "Acute Care/Floor         2097\n",
      "Step-Down Unit (SDU)     1607\n",
      "PACU                     1031\n",
      "Other ICU                 283\n",
      "Chest Pain Center         253\n",
      "ICU to SDU                 62\n",
      "ICU                        37\n",
      "Observation                10\n",
      "Other                       7\n",
      "Name: hospital_admit_source, dtype: int64 25.50611953256452\n",
      "Accident & Emergency         76846\n",
      "Operating Room / Recovery    27436\n",
      "Floor                        21459\n",
      "Other Hospital                3464\n",
      "Other ICU                      712\n",
      "Name: icu_admit_source, dtype: int64 0.18439269497606736\n",
      "admit       124741\n",
      "transfer      4801\n",
      "readmit        615\n",
      "Name: icu_stay_type, dtype: int64 0.0\n",
      "Med-Surg ICU    71468\n",
      "CCU-CTICU       11220\n",
      "MICU            10944\n",
      "Neuro ICU       10533\n",
      "Cardiac ICU      8276\n",
      "SICU             8258\n",
      "CSICU            4981\n",
      "CTICU            4477\n",
      "Name: icu_type, dtype: int64 0.0\n"
     ]
    }
   ],
   "source": [
    "for col in cat_cols:\n",
    "    print(train_df[col].value_counts(), train_df[col].isna().mean()*100)\n",
    "\n",
    "# The object type columns need imputation"
   ]
  },
  {
   "cell_type": "code",
   "execution_count": null,
   "metadata": {},
   "outputs": [],
   "source": []
  },
  {
   "cell_type": "code",
   "execution_count": 101,
   "metadata": {},
   "outputs": [
    {
     "data": {
      "text/plain": [
       "array([68., 77., 25., ..., 73., 81., 35.])"
      ]
     },
     "execution_count": 101,
     "metadata": {},
     "output_type": "execute_result"
    }
   ],
   "source": [
    "train_df['age'].values"
   ]
  },
  {
   "cell_type": "code",
   "execution_count": 102,
   "metadata": {},
   "outputs": [
    {
     "data": {
      "text/plain": [
       "array([72, 86, 72, ..., 74, 90, 30])"
      ]
     },
     "execution_count": 102,
     "metadata": {},
     "output_type": "execute_result"
    }
   ],
   "source": [
    "test_df['age'].values"
   ]
  },
  {
   "cell_type": "code",
   "execution_count": 122,
   "metadata": {},
   "outputs": [
    {
     "name": "stdout",
     "output_type": "stream",
     "text": [
      "0.03449680001843927 0.09917920656634747\n"
     ]
    }
   ],
   "source": [
    "a_train = train_df[['age', 'gender', 'bmi', 'height', 'weight']]\n",
    "a_test = test_df[['age', 'gender', 'bmi', 'height', 'weight']]\n",
    "\n",
    "print(a_train['bmi'].isna().mean(), a_test['bmi'].isna().mean())\n",
    "\n",
    "# calculate bmi based on weight and height\n",
    "a_train['bmi_calc'] = a_train['weight'] / (a_train['height']*a_train['height'])*10000\n",
    "a_test['bmi_calc'] = a_test['weight'] / (a_test['height']*a_test['height'])*10000\n",
    "\n",
    "# a_train['bmi_diff'] = a_train['bmi'] - a_train['bmi_calc']\n",
    "# a_test['bmi_diff'] = a_test['bmi'] - a_test['bmi_calc']"
   ]
  },
  {
   "cell_type": "code",
   "execution_count": 134,
   "metadata": {},
   "outputs": [
    {
     "data": {
      "text/plain": [
       " 0.00     122971\n",
       " 0.01         71\n",
       "-0.01         47\n",
       "-0.24         44\n",
       "-0.72         39\n",
       "           ...  \n",
       "-4.21          1\n",
       " 15.89         1\n",
       " 9.39          1\n",
       " 14.18         1\n",
       "-4.49          1\n",
       "Length: 1360, dtype: int64"
      ]
     },
     "execution_count": 134,
     "metadata": {},
     "output_type": "execute_result"
    }
   ],
   "source": [
    "a_train['bmi'].round(2) - a_train['bmi_calc'].round(2)"
   ]
  },
  {
   "cell_type": "code",
   "execution_count": 141,
   "metadata": {},
   "outputs": [
    {
     "ename": "SyntaxError",
     "evalue": "invalid syntax (<ipython-input-141-3f500fadbc17>, line 2)",
     "output_type": "error",
     "traceback": [
      "\u001b[0;36m  File \u001b[0;32m\"<ipython-input-141-3f500fadbc17>\"\u001b[0;36m, line \u001b[0;32m2\u001b[0m\n\u001b[0;31m    ((!a_train['height'].isnull()) | (!a_train['weight'].isnull()))]\u001b[0m\n\u001b[0m      ^\u001b[0m\n\u001b[0;31mSyntaxError\u001b[0m\u001b[0;31m:\u001b[0m invalid syntax\n"
     ]
    }
   ],
   "source": [
    "a_train[(a_train['bmi'].isnull()) & \\\n",
    "        ((a_train['height'].is_null()) | (a_train['weight'].isnull()))]\n",
    "#         (a_train['weight'].isnull())]"
   ]
  },
  {
   "cell_type": "code",
   "execution_count": null,
   "metadata": {},
   "outputs": [],
   "source": []
  },
  {
   "cell_type": "code",
   "execution_count": null,
   "metadata": {},
   "outputs": [],
   "source": []
  },
  {
   "cell_type": "code",
   "execution_count": null,
   "metadata": {},
   "outputs": [],
   "source": []
  },
  {
   "cell_type": "code",
   "execution_count": null,
   "metadata": {},
   "outputs": [],
   "source": []
  },
  {
   "cell_type": "code",
   "execution_count": null,
   "metadata": {},
   "outputs": [],
   "source": []
  },
  {
   "cell_type": "code",
   "execution_count": null,
   "metadata": {},
   "outputs": [],
   "source": []
  },
  {
   "cell_type": "markdown",
   "metadata": {},
   "source": [
    "Further notes in this section - \n",
    "- impute male and female according to age, bmi...\n",
    "- impute ethnicity according to hospital id (Hospital belonging to region)\n",
    "- hospital_admit_source and icu_admit_source imputed with None"
   ]
  },
  {
   "cell_type": "markdown",
   "metadata": {},
   "source": [
    "### Treating Apache columns"
   ]
  },
  {
   "cell_type": "code",
   "execution_count": 68,
   "metadata": {},
   "outputs": [],
   "source": [
    "apache_cols = list(train_df.filter(regex=\"apache\"))"
   ]
  },
  {
   "cell_type": "code",
   "execution_count": 70,
   "metadata": {},
   "outputs": [
    {
     "data": {
      "text/plain": [
       "albumin_apache           float64\n",
       "apache_2_diagnosis       float64\n",
       "apache_3j_diagnosis      float64\n",
       "apache_post_operative      int64\n",
       "arf_apache                 int64\n",
       "bilirubin_apache         float64\n",
       "bun_apache               float64\n",
       "creatinine_apache        float64\n",
       "gcs_eyes_apache          float64\n",
       "gcs_motor_apache         float64\n",
       "gcs_unable_apache        float64\n",
       "gcs_verbal_apache        float64\n",
       "glucose_apache           float64\n",
       "heart_rate_apache        float64\n",
       "hematocrit_apache        float64\n",
       "intubated_apache           int64\n",
       "map_apache               float64\n",
       "resprate_apache          float64\n",
       "sodium_apache            float64\n",
       "temp_apache              float64\n",
       "urineoutput_apache       float64\n",
       "ventilated_apache          int64\n",
       "wbc_apache               float64\n",
       "dtype: object"
      ]
     },
     "execution_count": 70,
     "metadata": {},
     "output_type": "execute_result"
    }
   ],
   "source": [
    "train_df[apache_cols].dtypes"
   ]
  },
  {
   "cell_type": "code",
   "execution_count": null,
   "metadata": {},
   "outputs": [],
   "source": []
  },
  {
   "cell_type": "code",
   "execution_count": null,
   "metadata": {},
   "outputs": [],
   "source": []
  },
  {
   "cell_type": "code",
   "execution_count": null,
   "metadata": {},
   "outputs": [],
   "source": []
  },
  {
   "cell_type": "code",
   "execution_count": null,
   "metadata": {},
   "outputs": [],
   "source": []
  },
  {
   "cell_type": "code",
   "execution_count": null,
   "metadata": {},
   "outputs": [],
   "source": []
  },
  {
   "cell_type": "code",
   "execution_count": null,
   "metadata": {},
   "outputs": [],
   "source": []
  },
  {
   "cell_type": "code",
   "execution_count": null,
   "metadata": {},
   "outputs": [],
   "source": []
  },
  {
   "cell_type": "code",
   "execution_count": null,
   "metadata": {},
   "outputs": [],
   "source": []
  },
  {
   "cell_type": "code",
   "execution_count": null,
   "metadata": {},
   "outputs": [],
   "source": []
  },
  {
   "cell_type": "code",
   "execution_count": null,
   "metadata": {},
   "outputs": [],
   "source": []
  },
  {
   "cell_type": "code",
   "execution_count": null,
   "metadata": {},
   "outputs": [],
   "source": []
  },
  {
   "cell_type": "markdown",
   "metadata": {},
   "source": [
    "## EDA on Training Data"
   ]
  },
  {
   "cell_type": "code",
   "execution_count": null,
   "metadata": {
    "ExecuteTime": {
     "end_time": "2021-01-20T11:51:45.127067Z",
     "start_time": "2021-01-20T11:51:43.695364Z"
    }
   },
   "outputs": [],
   "source": [
    "train_df.describe().transpose()"
   ]
  },
  {
   "cell_type": "code",
   "execution_count": null,
   "metadata": {
    "ExecuteTime": {
     "end_time": "2021-01-20T11:51:46.911128Z",
     "start_time": "2021-01-20T11:51:46.858038Z"
    }
   },
   "outputs": [],
   "source": []
  },
  {
   "cell_type": "code",
   "execution_count": null,
   "metadata": {},
   "outputs": [],
   "source": [
    "# Columns containing null values\n",
    "train_df.columns[train_df.isna().any()], test_df.columns[test_df.isna().any()]"
   ]
  },
  {
   "cell_type": "code",
   "execution_count": null,
   "metadata": {},
   "outputs": [],
   "source": [
    "# Columns not containing null values\n",
    "train_df.columns[~train_df.isna().any()], test_df.columns[~test_df.isna().any()]"
   ]
  },
  {
   "cell_type": "code",
   "execution_count": null,
   "metadata": {},
   "outputs": [],
   "source": []
  },
  {
   "cell_type": "code",
   "execution_count": null,
   "metadata": {
    "ExecuteTime": {
     "end_time": "2021-01-20T11:51:47.188513Z",
     "start_time": "2021-01-20T11:51:47.185376Z"
    }
   },
   "outputs": [],
   "source": [
    "set(train_df.dtypes)"
   ]
  },
  {
   "cell_type": "code",
   "execution_count": null,
   "metadata": {
    "ExecuteTime": {
     "end_time": "2021-01-20T11:51:53.864741Z",
     "start_time": "2021-01-20T11:51:53.759668Z"
    }
   },
   "outputs": [],
   "source": [
    "num_df = train_df.select_dtypes(include=['int64', 'float64'])\n",
    "cat_df = train_df.select_dtypes(include=['object'])"
   ]
  },
  {
   "cell_type": "code",
   "execution_count": null,
   "metadata": {},
   "outputs": [],
   "source": [
    "num_min_cols = num_df.filter(regex='_min', axis=1).columns.to_list()\n",
    "num_max_cols = num_df.filter(regex='_max', axis=1).columns.to_list()\n",
    "num_range_cols = num_max_cols + num_min_cols"
   ]
  },
  {
   "cell_type": "code",
   "execution_count": null,
   "metadata": {
    "ExecuteTime": {
     "end_time": "2021-01-20T11:51:54.316816Z",
     "start_time": "2021-01-20T11:51:54.313764Z"
    }
   },
   "outputs": [],
   "source": [
    "len(num_df.columns), len(cat_df.columns)"
   ]
  },
  {
   "cell_type": "code",
   "execution_count": null,
   "metadata": {
    "ExecuteTime": {
     "end_time": "2021-01-20T11:51:54.810068Z",
     "start_time": "2021-01-20T11:51:54.744423Z"
    }
   },
   "outputs": [],
   "source": [
    "for col in cat_df.columns:\n",
    "    print(\"Column:\", str(col), cat_df[col].unique(), np.divide(cat_df[col].isna().sum(), cat_df.shape[0])*100)"
   ]
  },
  {
   "cell_type": "code",
   "execution_count": null,
   "metadata": {
    "ExecuteTime": {
     "end_time": "2021-01-20T11:51:55.215928Z",
     "start_time": "2021-01-20T11:51:55.213995Z"
    }
   },
   "outputs": [],
   "source": [
    "# nominal - ethnicity, gender, \n",
    "# seems like ordinal - icu_type, icu_stay_type, hospital_admit_score, icu_admit_score"
   ]
  },
  {
   "cell_type": "code",
   "execution_count": null,
   "metadata": {
    "ExecuteTime": {
     "end_time": "2021-01-20T11:51:56.100770Z",
     "start_time": "2021-01-20T11:51:56.090644Z"
    }
   },
   "outputs": [],
   "source": [
    "cat_df['gender'].mode()"
   ]
  },
  {
   "cell_type": "code",
   "execution_count": null,
   "metadata": {},
   "outputs": [],
   "source": [
    "cat_df[['ethnicity', 'gender', 'icu_admit_source', 'hospital_admit_source']][10:20]"
   ]
  },
  {
   "cell_type": "code",
   "execution_count": null,
   "metadata": {},
   "outputs": [],
   "source": [
    "num_min_columns = train_df.filter(regex = '_min', axis=1).columns\n",
    "num_max_columns = train_df.filter(regex = '_max', axis=1).columns"
   ]
  },
  {
   "cell_type": "code",
   "execution_count": null,
   "metadata": {},
   "outputs": [],
   "source": [
    "num_id_df = train_df.filter(regex = '_id', axis=1)\n",
    "num_id_df.head(5)"
   ]
  },
  {
   "cell_type": "code",
   "execution_count": null,
   "metadata": {},
   "outputs": [],
   "source": [
    "num_id_df['hospital_id'].value_counts()"
   ]
  },
  {
   "cell_type": "code",
   "execution_count": null,
   "metadata": {},
   "outputs": [],
   "source": [
    "num_id_df['icu_id'].value_counts()"
   ]
  },
  {
   "cell_type": "code",
   "execution_count": null,
   "metadata": {},
   "outputs": [],
   "source": [
    "num_id_df['encounter_id'].value_counts()"
   ]
  },
  {
   "cell_type": "markdown",
   "metadata": {},
   "source": [
    "encounter_id is like a patient id, so it can be dropped.\n",
    "hospital_id and icu_id can be frequency encoded"
   ]
  },
  {
   "cell_type": "code",
   "execution_count": null,
   "metadata": {},
   "outputs": [],
   "source": [
    "train_df = train_df.drop(columns=['encounter_id', 'hospital_id', 'icu_id'])\n",
    "test_df = test_df.drop(columns=['encounter_id', 'hospital_id', 'icu_id'])"
   ]
  },
  {
   "cell_type": "code",
   "execution_count": null,
   "metadata": {},
   "outputs": [],
   "source": [
    "data_dict.head(10)"
   ]
  },
  {
   "cell_type": "markdown",
   "metadata": {},
   "source": [
    "### Feature imputations"
   ]
  },
  {
   "cell_type": "code",
   "execution_count": null,
   "metadata": {},
   "outputs": [],
   "source": [
    "num_df = train_df.select_dtypes(include=['int64', 'float64'])\n",
    "cat_df = train_df.select_dtypes(include=['object'])"
   ]
  },
  {
   "cell_type": "code",
   "execution_count": null,
   "metadata": {},
   "outputs": [],
   "source": [
    "# categorical features preprocessing\n",
    "categorical_features = list(cat_df.columns)\n",
    "categorical_transformer = Pipeline(steps = [('imputer', SimpleImputer(strategy = 'most_frequent')),\n",
    "                                            ('ohe', OneHotEncoder())])\n",
    "# categorical_features"
   ]
  },
  {
   "cell_type": "code",
   "execution_count": null,
   "metadata": {},
   "outputs": [],
   "source": [
    "# numerical features preprocessing \n",
    "numerical_features = list(num_df.columns)\n",
    "numerical_transformer = Pipeline(steps = [('imputer', SimpleImputer(strategy = 'median')),\n",
    "                                          ('scaler', StandardScaler())])\n",
    "# numerical_features"
   ]
  },
  {
   "cell_type": "code",
   "execution_count": null,
   "metadata": {},
   "outputs": [],
   "source": [
    "preprocessor = ColumnTransformer(transformers=[('num', numerical_transformer, numerical_features),\n",
    "                                               ('cat', categorical_transformer, categorical_features)])"
   ]
  },
  {
   "cell_type": "markdown",
   "metadata": {},
   "source": [
    "## Logistic Regression - baseline model"
   ]
  },
  {
   "cell_type": "code",
   "execution_count": null,
   "metadata": {},
   "outputs": [],
   "source": [
    "preprocessor.fit_transform(train_df)"
   ]
  },
  {
   "cell_type": "code",
   "execution_count": null,
   "metadata": {},
   "outputs": [],
   "source": []
  },
  {
   "cell_type": "code",
   "execution_count": null,
   "metadata": {},
   "outputs": [],
   "source": [
    "clf = Pipeline(steps = [('preprocessor', preprocessor),\n",
    "                        ('classifier', LogisticRegression())])\n",
    "# clf = make_pipeline(preprocessor, LogisticRegression())"
   ]
  },
  {
   "cell_type": "code",
   "execution_count": null,
   "metadata": {},
   "outputs": [],
   "source": [
    "clf"
   ]
  },
  {
   "cell_type": "code",
   "execution_count": null,
   "metadata": {},
   "outputs": [],
   "source": [
    "x_train, x_val, y_train, y_val = train_test_split(train_df, Y_train, test_size=0.2, random_state=0)"
   ]
  },
  {
   "cell_type": "code",
   "execution_count": null,
   "metadata": {},
   "outputs": [],
   "source": [
    "x_train.shape, x_val.shape, y_train.shape, y_val.shape"
   ]
  },
  {
   "cell_type": "code",
   "execution_count": null,
   "metadata": {},
   "outputs": [],
   "source": [
    "clf.fit(x_train, y_train)"
   ]
  },
  {
   "cell_type": "code",
   "execution_count": null,
   "metadata": {},
   "outputs": [],
   "source": []
  },
  {
   "cell_type": "code",
   "execution_count": null,
   "metadata": {},
   "outputs": [],
   "source": [
    "y_val_pred = clf.predict(x_val)\n",
    "print(\"model score: %.3f\" % clf.score(x_val, y_val))\n",
    "y_test_pred = clf.predict(test_df)"
   ]
  },
  {
   "cell_type": "code",
   "execution_count": null,
   "metadata": {},
   "outputs": [],
   "source": [
    "y_val_pred.shape"
   ]
  },
  {
   "cell_type": "markdown",
   "metadata": {},
   "source": [
    "## Logistic with gridsearch cv"
   ]
  },
  {
   "cell_type": "code",
   "execution_count": null,
   "metadata": {},
   "outputs": [],
   "source": [
    "param_grid = {\n",
    "    'logisticregression__penalty': ['l1', 'l2'],\n",
    "    'logisticregression__C': [0.1, 1.0, 1.0],\n",
    "    }"
   ]
  },
  {
   "cell_type": "code",
   "execution_count": null,
   "metadata": {},
   "outputs": [],
   "source": [
    "grid_clf = GridSearchCV(clf, param_grid, cv=10, scoring='accuracy')\n",
    "grid_clf.fit(x_train, y_train)"
   ]
  },
  {
   "cell_type": "code",
   "execution_count": null,
   "metadata": {},
   "outputs": [],
   "source": []
  },
  {
   "cell_type": "code",
   "execution_count": null,
   "metadata": {},
   "outputs": [],
   "source": []
  },
  {
   "cell_type": "code",
   "execution_count": null,
   "metadata": {},
   "outputs": [],
   "source": []
  },
  {
   "cell_type": "code",
   "execution_count": null,
   "metadata": {},
   "outputs": [],
   "source": []
  },
  {
   "cell_type": "code",
   "execution_count": null,
   "metadata": {},
   "outputs": [],
   "source": []
  },
  {
   "cell_type": "markdown",
   "metadata": {},
   "source": [
    "# Generate Solution"
   ]
  },
  {
   "cell_type": "code",
   "execution_count": null,
   "metadata": {},
   "outputs": [],
   "source": [
    "sol_df = pd.read_csv('input/SolutionTemplateWiDS2021.csv', usecols=['encounter_id'])\n",
    "sol_df.head(), sol_df.shape"
   ]
  },
  {
   "cell_type": "markdown",
   "metadata": {},
   "source": [
    "#### 28 Jan v1 1st submission"
   ]
  },
  {
   "cell_type": "code",
   "execution_count": null,
   "metadata": {},
   "outputs": [],
   "source": [
    "sol_df['diabetes_mellitus'] = y_test_pred\n",
    "sol_df.to_csv('output/v1_logistic_regression_28_jan.csv', index=False)"
   ]
  },
  {
   "cell_type": "code",
   "execution_count": null,
   "metadata": {},
   "outputs": [],
   "source": [
    "y_test_pred.shape"
   ]
  },
  {
   "cell_type": "markdown",
   "metadata": {},
   "source": [
    "#### h2o submission 30 Jan"
   ]
  },
  {
   "cell_type": "code",
   "execution_count": null,
   "metadata": {},
   "outputs": [],
   "source": [
    "x = pd.read_csv('output/3f9aeab185bc.csv', usecols=['encounter_id', 'predict'])\n",
    "x.head()"
   ]
  },
  {
   "cell_type": "code",
   "execution_count": null,
   "metadata": {},
   "outputs": [],
   "source": [
    "x.sort_values('encounter_id').rename({'predict':'diabetes_mellitus'}, axis=1)[['encounter_id', 'diabetes_mellitus']].to_csv('output/v1_h2o_jan_30.csv', index=False)"
   ]
  },
  {
   "cell_type": "code",
   "execution_count": null,
   "metadata": {},
   "outputs": [],
   "source": []
  }
 ],
 "metadata": {
  "kernelspec": {
   "display_name": "Python 3",
   "language": "python",
   "name": "python3"
  },
  "language_info": {
   "codemirror_mode": {
    "name": "ipython",
    "version": 3
   },
   "file_extension": ".py",
   "mimetype": "text/x-python",
   "name": "python",
   "nbconvert_exporter": "python",
   "pygments_lexer": "ipython3",
   "version": "3.8.7"
  },
  "toc": {
   "base_numbering": 1,
   "nav_menu": {},
   "number_sections": true,
   "sideBar": true,
   "skip_h1_title": false,
   "title_cell": "Table of Contents",
   "title_sidebar": "Contents",
   "toc_cell": false,
   "toc_position": {
    "height": "calc(100% - 180px)",
    "left": "10px",
    "top": "150px",
    "width": "165px"
   },
   "toc_section_display": true,
   "toc_window_display": true
  },
  "varInspector": {
   "cols": {
    "lenName": 16,
    "lenType": 16,
    "lenVar": 40
   },
   "kernels_config": {
    "python": {
     "delete_cmd_postfix": "",
     "delete_cmd_prefix": "del ",
     "library": "var_list.py",
     "varRefreshCmd": "print(var_dic_list())"
    },
    "r": {
     "delete_cmd_postfix": ") ",
     "delete_cmd_prefix": "rm(",
     "library": "var_list.r",
     "varRefreshCmd": "cat(var_dic_list()) "
    }
   },
   "types_to_exclude": [
    "module",
    "function",
    "builtin_function_or_method",
    "instance",
    "_Feature"
   ],
   "window_display": false
  }
 },
 "nbformat": 4,
 "nbformat_minor": 4
}
